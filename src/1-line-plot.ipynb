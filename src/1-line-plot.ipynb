import matplotlib.pyplot as plt
import numpy as np

# Generate x values from 0 to 10
x = np.linspace(0, 10, 100) # Using 100 points for a smoother line

# Calculate y values as the square of x
y = x**2

# Create the plot
plt.plot(x, y)

# Add a title
plt.title("Square Function: y = x^2")

# Add labels for x and y axes
plt.xlabel("X-axis")
plt.ylabel("Y-axis (X^2)")

# Add a grid
plt.grid(True)

# Display the plot
plt.show()
